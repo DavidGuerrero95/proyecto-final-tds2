{
 "cells": [
  {
   "cell_type": "code",
   "execution_count": 5,
   "metadata": {},
   "outputs": [],
   "source": [
    "import numpy as np"
   ]
  },
  {
   "cell_type": "code",
   "execution_count": 112,
   "metadata": {},
   "outputs": [],
   "source": [
    "def calcular_sindrome(patron_error, matriz_Ht):\n",
    "    sindrome = []\n",
    "    detectable = []\n",
    "    for i in patron_error:\n",
    "        valor = []\n",
    "        i2 = [np.float64(j) for j in np.array(list(i))]\n",
    "        for x in range(len(matriz_Ht[0])):\n",
    "            multiply_ih = i2*matriz_Ht[:,x]\n",
    "            valid = np.count_nonzero(multiply_ih == 1)\n",
    "            if valid%2 != 0:\n",
    "                valor.append(1)\n",
    "            else:\n",
    "                valor.append(0)\n",
    "        sindrome.append(valor)\n",
    "        if valor == [0, 0, 0]:\n",
    "            detectable.append(\"no\")\n",
    "        else:\n",
    "            detectable.append(\"si\")\n",
    "    return sindrome, detectable\n",
    "    "
   ]
  },
  {
   "cell_type": "code",
   "execution_count": 115,
   "metadata": {},
   "outputs": [],
   "source": [
    "n=7\n",
    "k=4\n",
    "matriz_P = np.array([[1,1,0],[0,1,1],[1,1,1],[1,0,1]])\n",
    "matriz_Ik= np.identity(k)\n",
    "matriz_G = np.concatenate((matriz_P.T,matriz_Ik.T),axis=0).T\n",
    "matriz_H = np.concatenate((matriz_Ik[:-1].T[:-1],matriz_P),axis=0).T\n",
    "matriz_Ht = matriz_H.T"
   ]
  },
  {
   "cell_type": "code",
   "execution_count": 127,
   "metadata": {},
   "outputs": [],
   "source": [
    "## calculo de patrones de error\n",
    "patron_error = np.array([\"{0:07b}\".format(x) for x in range(128)])\n",
    "cantidad_error = np.array([x.count('1') for x in patron_error])\n",
    "sindrome, detectable = calcular_sindrome(patron_error,matriz_Ht)\n",
    "corregibles = [\"si\" if x<2 else \"no\" for x in cantidad_error]\n"
   ]
  },
  {
   "cell_type": "code",
   "execution_count": 128,
   "metadata": {},
   "outputs": [
    {
     "data": {
      "text/plain": [
       "['si',\n",
       " 'si',\n",
       " 'si',\n",
       " 'no',\n",
       " 'si',\n",
       " 'no',\n",
       " 'no',\n",
       " 'no',\n",
       " 'si',\n",
       " 'no',\n",
       " 'no',\n",
       " 'no',\n",
       " 'no',\n",
       " 'no',\n",
       " 'no',\n",
       " 'no',\n",
       " 'si',\n",
       " 'no',\n",
       " 'no',\n",
       " 'no',\n",
       " 'no',\n",
       " 'no',\n",
       " 'no',\n",
       " 'no',\n",
       " 'no',\n",
       " 'no',\n",
       " 'no',\n",
       " 'no',\n",
       " 'no',\n",
       " 'no',\n",
       " 'no',\n",
       " 'no',\n",
       " 'si',\n",
       " 'no',\n",
       " 'no',\n",
       " 'no',\n",
       " 'no',\n",
       " 'no',\n",
       " 'no',\n",
       " 'no',\n",
       " 'no',\n",
       " 'no',\n",
       " 'no',\n",
       " 'no',\n",
       " 'no',\n",
       " 'no',\n",
       " 'no',\n",
       " 'no',\n",
       " 'no',\n",
       " 'no',\n",
       " 'no',\n",
       " 'no',\n",
       " 'no',\n",
       " 'no',\n",
       " 'no',\n",
       " 'no',\n",
       " 'no',\n",
       " 'no',\n",
       " 'no',\n",
       " 'no',\n",
       " 'no',\n",
       " 'no',\n",
       " 'no',\n",
       " 'no',\n",
       " 'si',\n",
       " 'no',\n",
       " 'no',\n",
       " 'no',\n",
       " 'no',\n",
       " 'no',\n",
       " 'no',\n",
       " 'no',\n",
       " 'no',\n",
       " 'no',\n",
       " 'no',\n",
       " 'no',\n",
       " 'no',\n",
       " 'no',\n",
       " 'no',\n",
       " 'no',\n",
       " 'no',\n",
       " 'no',\n",
       " 'no',\n",
       " 'no',\n",
       " 'no',\n",
       " 'no',\n",
       " 'no',\n",
       " 'no',\n",
       " 'no',\n",
       " 'no',\n",
       " 'no',\n",
       " 'no',\n",
       " 'no',\n",
       " 'no',\n",
       " 'no',\n",
       " 'no',\n",
       " 'no',\n",
       " 'no',\n",
       " 'no',\n",
       " 'no',\n",
       " 'no',\n",
       " 'no',\n",
       " 'no',\n",
       " 'no',\n",
       " 'no',\n",
       " 'no',\n",
       " 'no',\n",
       " 'no',\n",
       " 'no',\n",
       " 'no',\n",
       " 'no',\n",
       " 'no',\n",
       " 'no',\n",
       " 'no',\n",
       " 'no',\n",
       " 'no',\n",
       " 'no',\n",
       " 'no',\n",
       " 'no',\n",
       " 'no',\n",
       " 'no',\n",
       " 'no',\n",
       " 'no',\n",
       " 'no',\n",
       " 'no',\n",
       " 'no',\n",
       " 'no',\n",
       " 'no']"
      ]
     },
     "execution_count": 128,
     "metadata": {},
     "output_type": "execute_result"
    }
   ],
   "source": [
    "corregibles"
   ]
  },
  {
   "cell_type": "code",
   "execution_count": 97,
   "metadata": {},
   "outputs": [
    {
     "name": "stdout",
     "output_type": "stream",
     "text": [
      "[1.0, 1.0, 1.0, 1.0, 1.0, 1.0, 1.0]\n",
      "[[1. 0. 0.]\n",
      " [0. 1. 0.]\n",
      " [0. 0. 1.]\n",
      " [1. 1. 0.]\n",
      " [0. 1. 1.]\n",
      " [1. 1. 1.]\n",
      " [1. 0. 1.]]\n",
      "0\n"
     ]
    }
   ],
   "source": [
    "x1 = np.array(list(patron_error[-1]))\n",
    "x = [np.float64(i) for i in x1]\n",
    "print(x)\n",
    "print(matriz_Ht)\n",
    "a = x*matriz_Ht[:,0]\n",
    "a = np.count_nonzero(a == 1)\n",
    "print(a%2)"
   ]
  },
  {
   "cell_type": "code",
   "execution_count": 72,
   "metadata": {},
   "outputs": [
    {
     "name": "stdout",
     "output_type": "stream",
     "text": [
      "[False False False False False False  True]\n",
      "[ True False False  True False  True  True]\n",
      "[False  True False  True  True  True False]\n",
      "[False False  True False  True  True  True]\n",
      "[ True False False  True False  True  True]\n",
      "[False  True False  True  True  True  True]\n",
      "[False False  True False  True  True  True]\n"
     ]
    }
   ],
   "source": [
    "print(np.isin(x,1))\n",
    "print(np.isin(matriz_Ht[:,0],1))\n",
    "print(np.isin(matriz_Ht[:,1],1))\n",
    "print(np.isin(matriz_Ht[:,2],1))\n",
    "\n",
    "print(np.isin(x,1) | np.isin(matriz_Ht[:,0],1))\n",
    "print(np.isin(x,1) | np.isin(matriz_Ht[:,1],1))\n",
    "print(np.isin(x,1) | np.isin(matriz_Ht[:,2],1))"
   ]
  },
  {
   "cell_type": "code",
   "execution_count": null,
   "metadata": {},
   "outputs": [],
   "source": []
  }
 ],
 "metadata": {
  "kernelspec": {
   "display_name": "Python 3.8.10 64-bit",
   "language": "python",
   "name": "python3"
  },
  "language_info": {
   "codemirror_mode": {
    "name": "ipython",
    "version": 3
   },
   "file_extension": ".py",
   "mimetype": "text/x-python",
   "name": "python",
   "nbconvert_exporter": "python",
   "pygments_lexer": "ipython3",
   "version": "3.8.10"
  },
  "orig_nbformat": 4,
  "vscode": {
   "interpreter": {
    "hash": "916dbcbb3f70747c44a77c7bcd40155683ae19c65e1c03b4aa3499c5328201f1"
   }
  }
 },
 "nbformat": 4,
 "nbformat_minor": 2
}
